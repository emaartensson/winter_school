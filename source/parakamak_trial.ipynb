{
 "cells": [
  {
   "attachments": {},
   "cell_type": "markdown",
   "metadata": {},
   "source": [
    "# Winter school - paramak trial\n",
    "Most of this script method is based on:\n",
    " \n",
    "Freidberg, J. P. et al. _“Designing a Tokamak Fusion reactor—How Does Plasma Physics\n",
    "Fit In?”_ \n",
    "\n",
    "Physics of Plasmas 22, 7 (July 2015): 070901 © 2015 AIP Publishing\n"
   ]
  },
  {
   "attachments": {},
   "cell_type": "markdown",
   "metadata": {},
   "source": [
    "## Imports "
   ]
  },
  {
   "cell_type": "code",
   "execution_count": 2,
   "metadata": {},
   "outputs": [],
   "source": [
    "import paramak\n",
    "import numpy as np"
   ]
  },
  {
   "attachments": {},
   "cell_type": "markdown",
   "metadata": {},
   "source": [
    "## Engineering and nuclear physics constraints  "
   ]
  },
  {
   "cell_type": "code",
   "execution_count": 3,
   "metadata": {},
   "outputs": [],
   "source": [
    "# Electric plant \n",
    "P_electric = 1000e6 # [W]\n",
    "thermal_efficiency = 0.4 # [-]\n",
    "\n",
    "# Nuclear physics \n",
    "fast_neutrons_Li7_slowing_down_cross_section = 2e-28 # [barns to m2]\n",
    "slow_neutrons_Li6_breeding_cross_section = 960e-28 # [barns to m2] - at 0.025eV\n",
    "thermal_neutron_energy = 0.025 # [eV]\n",
    "fast_neutron_energy = 14.1e6 # [eV]\n",
    "\n",
    "# Heat flux \n",
    "neutron_wall_loading_limit = 4e6 # [W/m2]\n",
    "\n",
    "# Magnetic \n",
    "max_TF_stress = 600e6 # [Pa]\n",
    "max_TF_on_coil_field = 13 # [T]\n",
    "max_coil_current_density = 20e6 # [Amp/m2]\n",
    "\n",
    "max_power_recirculation = 0.10 # [-]\n",
    "\n",
    "# Plasma heating \n",
    "wall_to_absorbed_RF_power_conversion_efficiency = 0.4 # [-]\n",
    "\n",
    "# Plasma \n",
    "average_plasma_temperature = 14e3 # [eV]\n"
   ]
  },
  {
   "attachments": {},
   "cell_type": "markdown",
   "metadata": {},
   "source": [
    "## Plasma shape"
   ]
  },
  {
   "cell_type": "code",
   "execution_count": 4,
   "metadata": {},
   "outputs": [],
   "source": [
    "# Aspect ratio\n",
    "A = 4 # [-]\n",
    "\n",
    "# Plasma elongation \n",
    "k = 1.7 # [-]"
   ]
  },
  {
   "attachments": {},
   "cell_type": "markdown",
   "metadata": {},
   "source": [
    "## Blanket thickness\n",
    "\"_In fact, it is not unreasonable to say that the\n",
    "entire scale of a fusion reactor is largely determined by the\n",
    "slowing down mean free path of 14.1 MeV neutrons in lithium_\" \n",
    "\n",
    "\"_The calculation below presents a simple model for determining the width of \n",
    "the combined slowing down and breeding sub-regions. These are the dominant contributions to the blanket size which is only \n",
    "slightly less than the overall width b_\""
   ]
  },
  {
   "cell_type": "code",
   "execution_count": 5,
   "metadata": {},
   "outputs": [
    {
     "name": "stdout",
     "output_type": "stream",
     "text": [
      "Resultant blanket thickness: 0.99m\n",
      "Total first wall + vacuum vessel + blanket + rear wall shield thickness: 1.34cm\n"
     ]
    }
   ],
   "source": [
    "# Define Lithium number density \n",
    "Li7_number_density = 4.6e28 # [atoms/m3]\n",
    "Li6_number_density = 0.34e28 # [atoms/m3]\n",
    "\n",
    "# Calculate mean free path for neutrons slowing down by Li7 and for neutron tritium breeding in Li6 \n",
    "neutron_slowing_down_mean_free_path = 1/(Li7_number_density*fast_neutrons_Li7_slowing_down_cross_section)\n",
    "tritium_breeding_mean_free_path = 1/(Li6_number_density*slow_neutrons_Li6_breeding_cross_section)\n",
    "\n",
    "# Output vs input neutron flux ratio\n",
    "ratio_flux_in_wrt_out = 10e5 # [-] - Output flux/input flux\n",
    "\n",
    "alpha_B = (tritium_breeding_mean_free_path/neutron_slowing_down_mean_free_path)*((fast_neutron_energy/thermal_neutron_energy)**0.5)\n",
    "blanket_thickness = neutron_slowing_down_mean_free_path*np.log(1 + alpha_B*np.log(ratio_flux_in_wrt_out))\n",
    "print('Resultant blanket thickness: ' + str(round(blanket_thickness, 2)) + 'm')\n",
    "\n",
    "# Define thickness of auxiliary wall components, \n",
    "# e.g., vacuum vessel, first_wall, shield, neutron multiplier \n",
    "first_wall_shield_vacuum_vessel_thickness = 0.1 # [m]\n",
    "blanket_rear_wall_thickness = 0.25 # [m]\n",
    "\n",
    "b = blanket_thickness + first_wall_shield_vacuum_vessel_thickness + blanket_rear_wall_thickness \n",
    "\n",
    "print('Total first wall + vacuum vessel + blanket + rear wall shield thickness: ' + str(round(b, 2)) + 'cm')"
   ]
  },
  {
   "attachments": {},
   "cell_type": "markdown",
   "metadata": {},
   "source": [
    "## Major radius\n",
    "We use the wall neutron power loading limit (MW/m2) and the assumed reactor \n",
    "electric power to calculate the major radius of the plasma by knowing that: \n",
    "\n",
    "$P_n = S*P_{lim-wall}$\n",
    "\n",
    "We can calculate $P_{neutron}$ by knowing the total electrical power, the \n",
    "power conversion efficiency and the added energy from the exothermic tritium breeding \n",
    "reactions. \n",
    "\n",
    "The surface area is defined by: \n",
    "\n",
    "$S \\approx 4\\pi^2R_0a[(1 + k^2)^{0.5}]$ \n",
    "\n",
    "The results is that the major radius scales inversely with a but is independent of the magnetic field B0. \n"
   ]
  },
  {
   "cell_type": "code",
   "execution_count": 6,
   "metadata": {},
   "outputs": [
    {
     "name": "stdout",
     "output_type": "stream",
     "text": [
      "Resultant major radius: 5.35m\n"
     ]
    }
   ],
   "source": [
    "# Total energy from neutrons, alpha particles and exothermic tritium production\n",
    "# e.g., 22.6MeV = 14.1MeV + 3.5Mev + 4.8MeV \n",
    "energy_alpha = 3.5e6 # [eV]\n",
    "energy_tritium_production = 4.8e6 # [eV]\n",
    "energy_fusion = fast_neutron_energy + energy_alpha + energy_tritium_production # [eV] \n",
    "\n",
    "# Calculate major radius R0\n",
    "R0 = (((1/(4*np.pi**2))*(fast_neutron_energy/energy_fusion)*(P_electric/(thermal_efficiency*neutron_wall_loading_limit))*((2/(1 + k**2))**(0.5)))*4)**0.5\n",
    "print('Resultant major radius: ' + str(round(R0, 2)) + 'm')"
   ]
  },
  {
   "attachments": {},
   "cell_type": "markdown",
   "metadata": {},
   "source": [
    "## Central toroidal magnetic field\n",
    "Getting the toroidal magnetic field at the centre of the plasma is straight forward\n",
    "since it scales with radius from the peak field-on-coil: \n",
    "\n",
    "$B(R)/B_0 = R/R_0$ \n",
    "\n",
    "Where:\n",
    "\n",
    "$B(R_0) = B_0 =$ peak field-on-coil (T) "
   ]
  },
  {
   "cell_type": "code",
   "execution_count": 7,
   "metadata": {},
   "outputs": [
    {
     "name": "stdout",
     "output_type": "stream",
     "text": [
      "Minor radius: 1.34\n",
      "Resultant central magnetic field: 6.49 Tesla\n"
     ]
    }
   ],
   "source": [
    "# Calculate the minor radius from the major radius and the aspect ratio\n",
    "a = R0/A \n",
    "\n",
    "# Define the gap from the first wall to the plasma\n",
    "plasma_wall_gap = 0.0 # 0.05 # [m] leave at 0m for now (simplified model)\n",
    "\n",
    "# Calculate B0 at R0\n",
    "B0 = max_TF_on_coil_field*(1 - (a + b + plasma_wall_gap)/R0)\n",
    "\n",
    "print('Minor radius: ' + str(round(a, 2)))\n",
    "print('Resultant central magnetic field: ' + str(round(B0, 2)) + ' Tesla')"
   ]
  },
  {
   "attachments": {},
   "cell_type": "markdown",
   "metadata": {},
   "source": [
    "## Toroidal field coil thickness \n",
    "Our simplified toroidal field coils are made up only of superconducting magnet materials \n",
    "and mechanical support materials. The total radial coil thickness is therefor given by: \n",
    "\n",
    "$c = c_J + c_M $ \n",
    "\n",
    "The main forces affecting $C_M$ are the tensile and the centering forces. The main parameter affecting $C_J$ is the max current density limit. "
   ]
  },
  {
   "cell_type": "code",
   "execution_count": 8,
   "metadata": {},
   "outputs": [
    {
     "name": "stdout",
     "output_type": "stream",
     "text": [
      "Resultant radial thickness of mechanical supports: 0.39m\n",
      "Resultant radial thickness of magnet conductor: 0.58m\n",
      "Resultant total magnet radial thickness: 0.97m\n"
     ]
    }
   ],
   "source": [
    "mu_0 = 1.256e-6 # [N/A2] - vacuum permeability \n",
    "e_B = (a + b)/R0 # ratio of distance from centre of plasma-to-coil to the major radius \n",
    "\n",
    "# Calculate mechanical support thickness \n",
    "a_M = ((B0**2)/(mu_0*max_TF_stress))*((2*e_B/(1+e_B)) + 0.5*np.log((1+e_B)/(1-e_B)))\n",
    "mech_thickness = R0*(1 - e_B - ((1-e_B)**2 - a_M)**0.5)\n",
    "print('Resultant radial thickness of mechanical supports: ' + str(round(mech_thickness, 2)) + 'm')\n",
    "\n",
    "# Calcuclate conductor thickness\n",
    "a_J = 2*B0/(mu_0*R0*max_coil_current_density)\n",
    "conductor_thickness = R0*(1 - e_B - ((1-e_B)**2 - a_J)**0.5)\n",
    "print('Resultant radial thickness of magnet conductor: ' + str(round(conductor_thickness, 2)) + 'm')\n",
    "\n",
    "# Calculate total thickness \n",
    "tf_radial_thickness = conductor_thickness + mech_thickness\n",
    "print('Resultant total magnet radial thickness: ' + str(round(tf_radial_thickness, 2)) + 'm')\n"
   ]
  },
  {
   "attachments": {},
   "cell_type": "markdown",
   "metadata": {},
   "source": [
    "## Number of toroidal field coils \n",
    "We can easily calculate the number of toroidal field coils by know the limit of \n",
    "the toroidal field ripple.  "
   ]
  },
  {
   "cell_type": "code",
   "execution_count": 9,
   "metadata": {},
   "outputs": [
    {
     "name": "stdout",
     "output_type": "stream",
     "text": [
      "Estimated number of toroidal field coils: 21\n"
     ]
    }
   ],
   "source": [
    "max_tf_field_ripple = 0.02 # [-] \n",
    "\n",
    "tf_return_inner_radius = R0 + a + b\n",
    "number_tf_coils = int(np.log(max_tf_field_ripple)/np.log((R0+a)/tf_return_inner_radius))\n",
    "print('Estimated number of toroidal field coils: ' + str(number_tf_coils))"
   ]
  },
  {
   "attachments": {},
   "cell_type": "markdown",
   "metadata": {},
   "source": [
    "## Average plasma temperature \n",
    "The plasma temperature is chosen as to maximuse the fusion power density. The temperature profile is fairly flat at the peak power density so we can choose a fitting temperature around the peak. \n",
    "\n",
    "This is the volume-average temperature. "
   ]
  },
  {
   "cell_type": "code",
   "execution_count": 10,
   "metadata": {},
   "outputs": [
    {
     "name": "stdout",
     "output_type": "stream",
     "text": [
      "The required volume-averaged plasma temperature is: 14000.0eV\n"
     ]
    }
   ],
   "source": [
    "plasma_temperature = 14e3 # [eV]\n",
    "print('The required volume-averaged plasma temperature is: ' + str(round(plasma_temperature, 2)) + 'eV')"
   ]
  },
  {
   "attachments": {},
   "cell_type": "markdown",
   "metadata": {},
   "source": [
    "## Average plasma pressure\n",
    "We can get the required average plasma pressure again to maximise the fusion power. \n",
    "\n",
    "From that, we can calculate the resultant beta, eg. the ratio of the plasma pressure to the magnetic pressure. "
   ]
  },
  {
   "cell_type": "code",
   "execution_count": 46,
   "metadata": {},
   "outputs": [
    {
     "name": "stdout",
     "output_type": "stream",
     "text": [
      "The required volume-averaged plasma pressure is: 765301.54Pa\n",
      "Resultant beta: 4.57%\n"
     ]
    }
   ],
   "source": [
    "plasma_pressure = 1.01e5*(8.76/(a**0.5)) # [Pa]\n",
    "print('The required volume-averaged plasma pressure is: ' + str(round(plasma_pressure, 2)) + 'Pa')\n",
    "\n",
    "# Calculate beta - the ration of the plasma pressure to the magnetic pressure. \n",
    "# This is a good indicator of the economic situation. \n",
    "beta = 100*(2*mu_0*(plasma_pressure))/(B0**2)\n",
    "print('Resultant beta: ' + str(round(beta, 2)) + '%')\n"
   ]
  },
  {
   "attachments": {},
   "cell_type": "markdown",
   "metadata": {},
   "source": [
    "## Average plasma density \n",
    "The volume-average plasma density can be derived from its relationship to the plasma pressure and temperature. \n",
    " "
   ]
  },
  {
   "cell_type": "code",
   "execution_count": 68,
   "metadata": {},
   "outputs": [
    {
     "name": "stdout",
     "output_type": "stream",
     "text": [
      "The required volume-averaged plasma density is: 1.44e20/m3\n"
     ]
    }
   ],
   "source": [
    "plasma_density = 1.66/(a**0.5)\n",
    "print('The required volume-averaged plasma density is: ' + str(round(plasma_density, 2)) + 'e20/m3')\n"
   ]
  },
  {
   "attachments": {},
   "cell_type": "markdown",
   "metadata": {},
   "source": [
    "## Energy confinement time \n",
    "The energy confinement time is determined by the requirement that in steady \n",
    "state the thermal conduction losses are balanced by alpha particle heating. \n",
    "\n",
    "The plasma is assumed to be ignited."
   ]
  },
  {
   "cell_type": "code",
   "execution_count": 13,
   "metadata": {},
   "outputs": [
    {
     "name": "stdout",
     "output_type": "stream",
     "text": [
      "Required energy confinement time: 0.94s\n"
     ]
    }
   ],
   "source": [
    "confinement_time = 3*(np.pi**2)*R0*(a**2)*k*plasma_pressure*((energy_fusion*thermal_efficiency)/(energy_alpha*P_electric))\n",
    "print('Required energy confinement time: ' + str(round(confinement_time, 2)) + 's')"
   ]
  },
  {
   "attachments": {},
   "cell_type": "markdown",
   "metadata": {},
   "source": [
    "## Plasma current \n",
    "Calculating the plasma current involves some plasma physics for the first time in this project. \n",
    "\n",
    "We equate the required energy confinement factor to the empirically determined expression for confinement time, which then lets us solve for the plasma current. "
   ]
  },
  {
   "cell_type": "code",
   "execution_count": 55,
   "metadata": {},
   "outputs": [
    {
     "name": "stdout",
     "output_type": "stream",
     "text": [
      "Required plasma current: 14.34MA\n",
      "Resultant safety factor: 1.47\n"
     ]
    }
   ],
   "source": [
    "# Calculate plasma current \n",
    "H = 1  # [-] H-mode enhancement factor \n",
    "am = 2.5 # [-] atomic mass number\n",
    "\n",
    "Ip = ((7.98*(confinement_time**1.08))/((H**1.08)*(R0**1.49)*(a**0.62)*(k**0.84)*((plasma_density)**0.44)*(B0**0.16)*(am**0.20)))*(((energy_alpha*P_electric*1e-6)/(energy_fusion*thermal_efficiency))**0.74)\n",
    "print('Required plasma current: ' + str(round(Ip, 2)) + 'MA')\n",
    "\n",
    "# Calculate resultant safety factor\n",
    "safety_factor = ((2*np.pi*(a**2)*B0)/(mu_0*R0*(Ip*1e6)))*((1 + k**2)/2)\n",
    "print('Resultant safety factor: ' + str(round(safety_factor, 2))) \n",
    "\n"
   ]
  },
  {
   "attachments": {},
   "cell_type": "markdown",
   "metadata": {},
   "source": [
    "## CAD model generation - Paramak"
   ]
  },
  {
   "cell_type": "code",
   "execution_count": 15,
   "metadata": {},
   "outputs": [],
   "source": [
    "inner_bore_radial_thickness = 50\n",
    "inner_plasma_gap = 10 # [cm]\n",
    "outer_plasma_gap = inner_plasma_gap # [cm]\n",
    "vertical_plasma_gap = 50 # [cm]\n",
    "rear_blanket_to_tf_gap = 0 # [cm]\n",
    "cad_rotation_angle = 180 # [deg]\n",
    "outboard_tf_coil_poloidal_thickness = 50 # [cm]\n",
    "triangularity = 0.55 # [-]\n"
   ]
  },
  {
   "cell_type": "code",
   "execution_count": 16,
   "metadata": {},
   "outputs": [
    {
     "name": "stdout",
     "output_type": "stream",
     "text": [
      "Overwriting auto display for cadquery Workplane and Shape\n",
      "100% ⋮————————————————————————————————————————————————————————————⋮ (9/9)  0.42s\n"
     ]
    },
    {
     "data": {
      "application/vnd.jupyter.widget-view+json": {
       "model_id": "26a018bbfb6743f185b2c9509245cccb",
       "version_major": 2,
       "version_minor": 0
      },
      "text/plain": [
       "CadViewerWidget(anchor=None, cad_width=800, glass=False, height=600, pinning=False, theme='light', title=None,…"
      ]
     },
     "metadata": {},
     "output_type": "display_data"
    },
    {
     "data": {
      "text/html": [
       "<div></div>"
      ],
      "text/plain": [
       "<IPython.core.display.HTML object>"
      ]
     },
     "metadata": {},
     "output_type": "display_data"
    },
    {
     "data": {
      "text/plain": [
       "<cad_viewer_widget.widget.CadViewer at 0x7fae2bc96f70>"
      ]
     },
     "execution_count": 16,
     "metadata": {},
     "output_type": "execute_result"
    }
   ],
   "source": [
    "ball_reactor = paramak.BallReactor(\n",
    "   inner_bore_radial_thickness=inner_bore_radial_thickness, #\n",
    "   inboard_tf_leg_radial_thickness=tf_radial_thickness*100, #\n",
    "   center_column_shield_radial_thickness=b*100, #\n",
    "   divertor_radial_thickness=150, #\n",
    "   inner_plasma_gap_radial_thickness=inner_plasma_gap, #\n",
    "   plasma_radial_thickness=100*(2*a), #\n",
    "   outer_plasma_gap_radial_thickness=outer_plasma_gap, #\n",
    "   plasma_gap_vertical_thickness=vertical_plasma_gap, # \n",
    "   firstwall_radial_thickness=first_wall_shield_vacuum_vessel_thickness*100, #\n",
    "   blanket_radial_thickness=b*100, #\n",
    "   blanket_rear_wall_radial_thickness=blanket_rear_wall_thickness*100,\n",
    "   elongation=k,\n",
    "   triangularity=triangularity,\n",
    "   number_of_tf_coils=number_tf_coils,\n",
    "   rotation_angle=cad_rotation_angle,\n",
    "   # pf_coil_case_thicknesses=[10, 10, 10, 10],\n",
    "   # pf_coil_radial_thicknesses=[20, 50, 50, 20],\n",
    "   # pf_coil_vertical_thicknesses=[20, 50, 50, 20],\n",
    "   # pf_coil_radial_position=[500, 575, 575, 500],\n",
    "   # pf_coil_vertical_position=[300, 100, -100, -300],\n",
    "   rear_blanket_to_tf_gap=rear_blanket_to_tf_gap,\n",
    "   outboard_tf_coil_radial_thickness=tf_radial_thickness*100,\n",
    "   outboard_tf_coil_poloidal_thickness=outboard_tf_coil_poloidal_thickness\n",
    ")\n",
    "\n",
    "ball_reactor.show()"
   ]
  },
  {
   "attachments": {},
   "cell_type": "markdown",
   "metadata": {},
   "source": [
    "## Cost parameter\n",
    "A simple cost parameter for comparing designs is the ration of the volume \n",
    "of highly engineered components to the electric power output of the reactor. \n",
    "\n",
    "The components the mostly drive the cost is the blanket and the toroidal field coils. "
   ]
  },
  {
   "cell_type": "code",
   "execution_count": 23,
   "metadata": {},
   "outputs": [
    {
     "name": "stdout",
     "output_type": "stream",
     "text": [
      "Cost parameter: 1.09m3/MW\n"
     ]
    }
   ],
   "source": [
    "blanket_volume = 2*(np.pi**2)*R0*((a + b)*(k*a + b) - k*(a**2))\n",
    "tf_volume = 4*np.pi*tf_radial_thickness*(2*R0 - 2*a - 2*b - tf_radial_thickness)*((1 + k)*a + 2*b + tf_radial_thickness)\n",
    "cost_parameter = (blanket_volume + tf_volume)/(P_electric*1e-6)\n",
    "print('Cost parameter: ' + str(round(cost_parameter, 2)) + 'm3/MW')"
   ]
  },
  {
   "attachments": {},
   "cell_type": "markdown",
   "metadata": {},
   "source": [
    "## Heat flux \n",
    "Calculate the heat flux parallel to the field lines. \n",
    "\n"
   ]
  },
  {
   "cell_type": "code",
   "execution_count": 26,
   "metadata": {},
   "outputs": [
    {
     "name": "stdout",
     "output_type": "stream",
     "text": [
      "Parallel heat flux: 473.85MW-T/m\n"
     ]
    }
   ],
   "source": [
    "parallel_heat_flux = ((energy_alpha*P_electric)/(energy_fusion*thermal_efficiency))*(B0/R0)*1e-6\n",
    "print('Parallel heat flux: ' + str(round(parallel_heat_flux, 2)) + 'MW-T/m')"
   ]
  },
  {
   "attachments": {},
   "cell_type": "markdown",
   "metadata": {},
   "source": [
    "# How well does the plasma perform? \n",
    "We have designed a tokamak based purely on engineering limits of its components.\n",
    "\n",
    "We now want to know how well the plasma will perform based on these constraints. \n",
    "\n",
    "We can use four well-known, empirically-determined operational limits for the plasma physics to see if we would be able to achieve a sustainable plasma: \n",
    "- The Greenwald density limit, the Troyon beta limit and the kink safety factor all relate to the operational stability of the plasma. \n",
    "- The bootstrap fraction tells us how much of the plasma current the plasma is able to drive itself, so we don't need external power for it. "
   ]
  },
  {
   "attachments": {},
   "cell_type": "markdown",
   "metadata": {},
   "source": [
    "## The Greenwald density limit \n",
    "The Greenwald density limit states that the average density needs to be less than the Greenwald limit in order to avoid disruptions: \n",
    "\n",
    "$ n < n_G = \\frac{I}{\\pi a^2} $ "
   ]
  },
  {
   "cell_type": "code",
   "execution_count": 36,
   "metadata": {},
   "outputs": [
    {
     "name": "stdout",
     "output_type": "stream",
     "text": [
      "The Greenwald density limit is satisfied: 1.44 < 2.56\n"
     ]
    }
   ],
   "source": [
    "greenwald_limit = Ip/(np.pi*(a**2)) \n",
    "if plasma_density < greenwald_limit: \n",
    "    print('The Greenwald density limit is satisfied: ' + str(round(density, 2)) + ' < ' + str(round(greenwald_limit, 2)))\n",
    "else: \n",
    "    print('The Greenwald density limit is not satisfied: ' + str(round(density, 2)) + ' > ' + str(round(greenwald_limit, 2)))"
   ]
  },
  {
   "attachments": {},
   "cell_type": "markdown",
   "metadata": {},
   "source": [
    "## The Troyon beta limit\n",
    "The Troyon beta limit puts a constraint on the achievable beta in a conventional tokamak. Beta is the ratio of the plasma to the magnetic pressure and operating below the Troyon limit helps avoid plasma instabilities. \n",
    "\n",
    "$ \\beta < \\beta_T = \\beta_N\\frac{I}{aB_0}, \\beta_N = 2.8 \\%$ \n",
    "\n",
    "It is important to note that spherical tokamaks are able to operate above the Troyon beta limit due to their shape. "
   ]
  },
  {
   "cell_type": "code",
   "execution_count": 49,
   "metadata": {},
   "outputs": [
    {
     "name": "stdout",
     "output_type": "stream",
     "text": [
      "The Troyon beta limit is satisfied: 4.57 < 4.63\n"
     ]
    }
   ],
   "source": [
    "beta_N = 0.028\n",
    "beta_troyon = 100*beta_N*(Ip/(a*B0)) \n",
    "if beta < beta_troyon: \n",
    "    print('The Troyon beta limit is satisfied: ' + str(round(beta, 2)) + ' < ' + str(round(beta_troyon, 2)))\n",
    "else: \n",
    "    print('The Troyon beta limit is not satisfied: ' + str(round(beta, 2)) + ' > ' + str(round(beta_troyon, 2)))"
   ]
  },
  {
   "attachments": {},
   "cell_type": "markdown",
   "metadata": {},
   "source": [
    "## The kink safety factor limit\n",
    "Being above the kink safety factor limit helps the plasma avoid kink instabilities, which is where the plasma shape risks touching the outer wall. This is realated to the safety factor, which is the ratio of how many turns the particles take toroidally vs poloidally. \n",
    "\n",
    "$ q > q_K \\approx 2 $"
   ]
  },
  {
   "cell_type": "code",
   "execution_count": 54,
   "metadata": {},
   "outputs": [
    {
     "name": "stdout",
     "output_type": "stream",
     "text": [
      "The kink safety factor limit is not satisfied: 1.47 < 2\n"
     ]
    }
   ],
   "source": [
    "q_kink = 2\n",
    "if safety_factor > q_kink: \n",
    "    print('The kink safety factor limit is satisfied: ' + str(round(safety_factor, 2)) + ' > ' + str(2))\n",
    "else: \n",
    "    print('The kink safety factor limit is not satisfied: ' + str(round(safety_factor, 2)) + ' < ' + str(2))"
   ]
  },
  {
   "attachments": {},
   "cell_type": "markdown",
   "metadata": {},
   "source": [
    "## The bootstrap fraction \n",
    "Bootstrap current is the amount of plasma current that is self-driven by charge gradients across the plasma. \n",
    "\n",
    "We can calculate how big our bootstrap fraction needs to be by knowing how much power we're willing to recirculate back to current drive and the efficiency of the current drive. \n",
    "\n",
    "Like all calculations in this code, this is a gross simplification. It also assumes only lower hybrid current drive. \n",
    " "
   ]
  },
  {
   "attachments": {},
   "cell_type": "markdown",
   "metadata": {},
   "source": []
  },
  {
   "cell_type": "code",
   "execution_count": 91,
   "metadata": {},
   "outputs": [
    {
     "name": "stdout",
     "output_type": "stream",
     "text": [
      "The required bootstrap fraction is: 0.84\n",
      "[1.26143763e-04 2.55321812e-03 5.73292996e-03 9.33167389e-03\n",
      " 1.32402275e-02 1.74006029e-02 2.17764663e-02 2.63429546e-02\n",
      " 3.10821182e-02 3.59805467e-02 4.10279997e-02 4.62165568e-02\n",
      " 5.15400596e-02 5.69937302e-02 6.25738990e-02 6.82778066e-02\n",
      " 7.41034552e-02 8.00494949e-02 8.61151351e-02 9.23000748e-02\n",
      " 9.86044466e-02 1.05028771e-01 1.11573921e-01 1.18241087e-01\n",
      " 1.25031757e-01 1.31947690e-01 1.38990903e-01 1.46163648e-01\n",
      " 1.53468407e-01 1.60907872e-01 1.68484942e-01 1.76202708e-01\n",
      " 1.84064449e-01 1.92073620e-01 2.00233848e-01 2.08548924e-01\n",
      " 2.17022797e-01 2.25659563e-01 2.34463466e-01 2.43438882e-01\n",
      " 2.52590317e-01 2.61922397e-01 2.71439859e-01 2.81147541e-01\n",
      " 2.91050370e-01 3.01153352e-01 3.11461555e-01 3.21980098e-01\n",
      " 3.32714129e-01 3.43668808e-01 3.54849284e-01 3.66260671e-01\n",
      " 3.77908018e-01 3.89796280e-01 4.01930282e-01 4.14314675e-01\n",
      " 4.26953898e-01 4.39852119e-01 4.53013186e-01 4.66440558e-01\n",
      " 4.80137234e-01 4.94105676e-01 5.08347712e-01 5.22864445e-01\n",
      " 5.37656128e-01 5.52722048e-01 5.68060379e-01 5.83668024e-01\n",
      " 5.99540439e-01 6.15671434e-01 6.32052956e-01 6.48674834e-01\n",
      " 6.65524510e-01 6.82586730e-01 6.99843197e-01 7.17272187e-01\n",
      " 7.34848124e-01 7.52541097e-01 7.70316326e-01 7.88133568e-01\n",
      " 8.05946446e-01 8.23701710e-01 8.41338403e-01 8.58786934e-01\n",
      " 8.75968042e-01 8.92791641e-01 9.09155526e-01 9.24943929e-01\n",
      " 9.40025907e-01 9.54253539e-01 9.67459909e-01 9.79456856e-01\n",
      " 9.90032452e-01 9.98948185e-01 1.00593580e+00 1.01069380e+00\n",
      " 1.01288343e+00 1.01212434e+00 1.00798956e+00 1.00000000e+00]\n",
      "32696271394772.68\n"
     ]
    },
    {
     "data": {
      "image/png": "[encoded data removed]",
      "text/plain": [
       "<Figure size 640x480 with 1 Axes>"
      ]
     },
     "metadata": {},
     "output_type": "display_data"
    }
   ],
   "source": [
    "# Calculate the power actually ending up in the plasma driving current\n",
    "current_drive_power = (1e-6)*P_electric*max_power_recirculation*wall_to_absorbed_RF_power_conversion_efficiency # [MW]\n",
    "\n",
    "# Calculate the bootstrap fraction \n",
    "parallel_refraction = 1.67\n",
    "bootstrap_fraction = 1 - 1.2*(current_drive_power)/(R0*(plasma_density)*Ip*(parallel_refraction**2))\n",
    "print('The required bootstrap fraction is: ' + str(round(bootstrap_fraction, 2)))\n",
    "\n",
    "# Calcualte the neoclassical bootstrap fraction \n",
    "# Current density J: \n",
    "rho = np.linspace(0.001, 1, 100)\n",
    "a_hat = a*(k**0.5)\n",
    "alpha = 2.53\n",
    "x = rho**(9/4)\n",
    "J = (Ip/(np.pi*(a_hat**2)))*((9*(rho**(1/4))/8))*(((alpha**2)*(1 - x)*np.e**(alpha*x))/(np.e**(alpha) - 1 - alpha))\n",
    "plt.plot(rho, J)\n",
    "J_integrated = np.sum(J)\n",
    "b0 = (1/rho)*((1 + alpha - alpha*x)*np.e**(alpha*x) - 1 - alpha)/(np.e**(alpha) - 1 - alpha)\n",
    "print(b0)\n",
    "bootstrap_fraction_neoclassical = 268*(((a**(5/2))*(k**(5/4))*(plasma_pressure))/(mu_0*(R0**0.5)*(Ip**2)))*np.sum((rho**(5/2))*(1 - rho**2)/b0)\n",
    "\n",
    "print(bootstrap_fraction_neoclassical)"
   ]
  },
  {
   "attachments": {},
   "cell_type": "markdown",
   "metadata": {},
   "source": [
    "# "
   ]
  }
 ],
 "metadata": {
  "kernelspec": {
   "display_name": "winter_school",
   "language": "python",
   "name": "python3"
  },
  "language_info": {
   "codemirror_mode": {
    "name": "ipython",
    "version": 3
   },
   "file_extension": ".py",
   "mimetype": "text/x-python",
   "name": "python",
   "nbconvert_exporter": "python",
   "pygments_lexer": "ipython3",
   "version": "3.9.16"
  },
  "orig_nbformat": 4
 },
 "nbformat": 4,
 "nbformat_minor": 2
}
