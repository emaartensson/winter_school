{
 "cells": [
  {
   "attachments": {},
   "cell_type": "markdown",
   "metadata": {},
   "source": [
    "# Winter school - paramak trial\n",
    "Most of this script method is based on:\n",
    " \n",
    "Freidberg, J. P. et al. _“Designing a Tokamak Fusion reactor—How Does Plasma Physics\n",
    "Fit In?”_ \n",
    "\n",
    "Physics of Plasmas 22, 7 (July 2015): 070901 © 2015 AIP Publishing\n"
   ]
  },
  {
   "attachments": {},
   "cell_type": "markdown",
   "metadata": {},
   "source": [
    "## Imports "
   ]
  },
  {
   "cell_type": "code",
   "execution_count": 79,
   "metadata": {},
   "outputs": [],
   "source": [
    "import paramak\n",
    "import numpy as np"
   ]
  },
  {
   "attachments": {},
   "cell_type": "markdown",
   "metadata": {},
   "source": [
    "## Engineering and nuclear physics constraints  "
   ]
  },
  {
   "cell_type": "code",
   "execution_count": 80,
   "metadata": {},
   "outputs": [],
   "source": [
    "# Electric plant \n",
    "P_electric = 1000e6 # [W]\n",
    "thermal_efficiency = 0.4 # [-]\n",
    "\n",
    "# Nuclear physics \n",
    "fast_neutrons_Li7_slowing_down_cross_section = 2e-28 # [barns to m2]\n",
    "slow_neutrons_Li6_breeding_cross_section = 960e-28 # [barns to m2] - at 0.025eV\n",
    "thermal_neutron_energy = 0.025 # [eV]\n",
    "fast_neutron_energy = 14.1e6 # [eV]\n",
    "\n",
    "# Heat flux \n",
    "neutron_wall_loading_limit = 4e6 # [W/m2]\n",
    "\n",
    "# Magnetic \n",
    "max_TF_stress = 600e6 # [Pa]\n",
    "max_TF_on_coil_field = 13 # [T]\n",
    "max_coil_current_density = 20e6 # [Amp/m2]\n",
    "\n",
    "max_power_recirculation = 0.10 # [-]\n",
    "\n",
    "# Plasma heating \n",
    "wall_to_absorbed_RF_power_conversion_efficiency = 0.4 # [-]\n",
    "\n",
    "# Plasma \n",
    "average_plasma_temperature = 14e3 # [eV]\n"
   ]
  },
  {
   "attachments": {},
   "cell_type": "markdown",
   "metadata": {},
   "source": [
    "## Plasma shape"
   ]
  },
  {
   "cell_type": "code",
   "execution_count": 81,
   "metadata": {},
   "outputs": [],
   "source": [
    "# Aspect ratio\n",
    "A = 4 # [-]\n",
    "\n",
    "# Plasma elongation \n",
    "k = 1.7 # [-]"
   ]
  },
  {
   "attachments": {},
   "cell_type": "markdown",
   "metadata": {},
   "source": [
    "## Blanket thickness\n",
    "\"_In fact, it is not unreasonable to say that the\n",
    "entire scale of a fusion reactor is largely determined by the\n",
    "slowing down mean free path of 14.1 MeV neutrons in lithium_\" \n",
    "\n",
    "\"_The calculation below presents a simple model for determining the width of \n",
    "the combined slowing down and breeding sub-regions. These are the dominant contributions to the blanket size which is only \n",
    "slightly less than the overall width b_\""
   ]
  },
  {
   "cell_type": "code",
   "execution_count": 82,
   "metadata": {},
   "outputs": [
    {
     "name": "stdout",
     "output_type": "stream",
     "text": [
      "Resultant blanket thickness: 0.99m\n"
     ]
    }
   ],
   "source": [
    "# Define Lithium number density \n",
    "Li7_number_density = 4.6e28 # [atoms/m3]\n",
    "Li6_number_density = 0.34e28 # [atoms/m3]\n",
    "\n",
    "# Calculate mean free path for neutrons slowing down by Li7 and for neutron tritium breeding in Li6 \n",
    "neutron_slowing_down_mean_free_path = 1/(Li7_number_density*fast_neutrons_Li7_slowing_down_cross_section)\n",
    "tritium_breeding_mean_free_path = 1/(Li6_number_density*slow_neutrons_Li6_breeding_cross_section)\n",
    "\n",
    "# Output vs input neutron flux ratio\n",
    "ratio_flux_in_wrt_out = 10e5 # [-] - Output flux/input flux\n",
    "\n",
    "alpha_B = (tritium_breeding_mean_free_path/neutron_slowing_down_mean_free_path)*((fast_neutron_energy/thermal_neutron_energy)**0.5)\n",
    "blanket_thickness = neutron_slowing_down_mean_free_path*np.log(1 + alpha_B*np.log(ratio_flux_in_wrt_out))\n",
    "print('Resultant blanket thickness: ' + str(round(blanket_thickness, 2)) + 'm')\n",
    "\n",
    "# Define thickness of auxiliary wall components, \n",
    "# e.g., vacuum vessel, first_wall, shield, neutron multiplier \n",
    "wall_shield_vacuum_vessel_thickness = 0.2 # [m]\n",
    "\n",
    "b = blanket_thickness + wall_shield_vacuum_vessel_thickness"
   ]
  },
  {
   "attachments": {},
   "cell_type": "markdown",
   "metadata": {},
   "source": [
    "## Major radius\n",
    "We use the wall neutron power loading limit (MW/m2) and the assumed reactor \n",
    "electric power to calculate the major radius of the plasma by knowing that: \n",
    "\n",
    "$P_n = S*P_{lim-wall}$\n",
    "\n",
    "We can calculate $P_{neutron}$ by knowing the total electrical power, the \n",
    "power conversion efficiency and the added energy from the exothermic tritium breeding \n",
    "reactions. \n",
    "\n",
    "The surface area is defined by: \n",
    "\n",
    "$S \\approx 4\\pi^2R_0a[(1 + k^2)^{0.5}]$ \n",
    "\n",
    "The results is that the major radius scales inversely with a but is independent of the magnetic field B0. \n"
   ]
  },
  {
   "cell_type": "code",
   "execution_count": 113,
   "metadata": {},
   "outputs": [
    {
     "name": "stdout",
     "output_type": "stream",
     "text": [
      "Resultant major radius: 5.35m\n"
     ]
    }
   ],
   "source": [
    "# Total energy from neutrons, alpha particles and exothermic tritium production\n",
    "# e.g., 22.6MeV = 14.1MeV + 3.5Mev + 4.8MeV \n",
    "energy_alpha = 3.5e6 # [eV]\n",
    "energy_tritium_production = 4.8e6 # [eV]\n",
    "energy_fusion = fast_neutron_energy + energy_alpha + energy_tritium_production # [eV] \n",
    "\n",
    "# Calculate major radius R0\n",
    "R0 = (((1/(4*np.pi**2))*(fast_neutron_energy/energy_fusion)*(P_electric/(thermal_efficiency*neutron_wall_loading_limit))*((2/(1 + k**2))**(0.5)))*4)**0.5\n",
    "print('Resultant major radius: ' + str(round(R0, 2)) + 'm')"
   ]
  },
  {
   "attachments": {},
   "cell_type": "markdown",
   "metadata": {},
   "source": [
    "## Central toroidal magnetic field\n",
    "Getting the toroidal magnetic field at the centre of the plasma is straight forward\n",
    "since it scales with radius from the peak field-on-coil: \n",
    "\n",
    "$B(R)/B_0 = R/R_0$ \n",
    "\n",
    "Where:\n",
    "\n",
    "$B(R_0) = B_0 =$ peak field-on-coil (T) "
   ]
  },
  {
   "cell_type": "code",
   "execution_count": 84,
   "metadata": {},
   "outputs": [
    {
     "name": "stdout",
     "output_type": "stream",
     "text": [
      "Resultant central magnetic field: 6.88 Tesla\n"
     ]
    }
   ],
   "source": [
    "# Calculate the minor radius from the major radius and the aspect ratio\n",
    "a = R0/A \n",
    "\n",
    "# Define the gap from the first wall to the plasma\n",
    "plasma_wall_gap = 0.0 # 0.05 # [m] leave at 0m for now (simplified model)\n",
    "\n",
    "# Calculate B0 at R0\n",
    "B0 = max_TF_on_coil_field*(1 - (a + b + plasma_wall_gap)/R0)\n",
    "\n",
    "print('Resultant central magnetic field: ' + str(round(B0, 2)) + ' Tesla')"
   ]
  },
  {
   "attachments": {},
   "cell_type": "markdown",
   "metadata": {},
   "source": [
    "## Toroidal field coil thickness \n",
    "Our simplified toroidal field coils are made up only of superconducting magnet materials \n",
    "and mechanical support materials. The total radial coil thickness is therefor given by: \n",
    "\n",
    "$c = c_J + c_M $ \n",
    "\n",
    "The main forces affecting $C_M$ are the tensile and the centering forces. The main parameter affecting $C_J$ is the max current density limit. "
   ]
  },
  {
   "cell_type": "code",
   "execution_count": 85,
   "metadata": {},
   "outputs": [
    {
     "name": "stdout",
     "output_type": "stream",
     "text": [
      "Resultant radial thickness of mechanical supports: 0.4m\n",
      "Resultant radial thickness of magnet conductor: 0.58m\n",
      "Resultant total magnet radial thickness: 0.97m\n"
     ]
    }
   ],
   "source": [
    "mu_0 = 1.256e-6 # [N/A2] - vacuum permeability \n",
    "e_B = (a + b)/R0 # ratio of distance from centre of plasma-to-coil to the major radius \n",
    "\n",
    "# Calculate mechanical support thickness \n",
    "a_M = ((B0**2)/(mu_0*max_TF_stress))*((2*e_B/(1+e_B)) + 0.5*np.log((1+e_B)/(1-e_B)))\n",
    "mech_thickness = R0*(1 - e_B - ((1-e_B)**2 - a_M)**0.5)\n",
    "print('Resultant radial thickness of mechanical supports: ' + str(round(mech_thickness, 2)) + 'm')\n",
    "\n",
    "# Calcuclate conductor thickness\n",
    "a_J = 2*B0/(mu_0*R0*max_coil_current_density)\n",
    "conductor_thickness = R0*(1 - e_B - ((1-e_B)**2 - a_J)**0.5)\n",
    "print('Resultant radial thickness of magnet conductor: ' + str(round(conductor_thickness, 2)) + 'm')\n",
    "\n",
    "# Calculate total thickness \n",
    "total_thickness = conductor_thickness + mech_thickness\n",
    "print('Resultant total magnet radial thickness: ' + str(round(total_thickness, 2)) + 'm')\n"
   ]
  },
  {
   "attachments": {},
   "cell_type": "markdown",
   "metadata": {},
   "source": [
    "## Number of toroidal field coils \n",
    "We can easily calculate the number of toroidal field coils by know the limit of \n",
    "the toroidal field ripple.  "
   ]
  },
  {
   "cell_type": "code",
   "execution_count": 87,
   "metadata": {},
   "outputs": [
    {
     "name": "stdout",
     "output_type": "stream",
     "text": [
      "Estimated number of toroidal field coils: 24\n"
     ]
    }
   ],
   "source": [
    "max_tf_field_ripple = 0.02 # [-] \n",
    "\n",
    "tf_return_inner_radius = R0 + a + b\n",
    "number_tf_coils = np.log(max_tf_field_ripple)/np.log((R0+a)/tf_return_inner_radius)\n",
    "print('Estimated number of toroidal field coils: ' + str(int(number_tf_coils)))"
   ]
  },
  {
   "attachments": {},
   "cell_type": "markdown",
   "metadata": {},
   "source": [
    "## Average plasma temperature \n",
    "The plasma temperature is chosen as to maximuse the fusion power density. The temperature profile is fairly flat at the peak power density so we can choose a fitting temperature around the peak. \n",
    "\n",
    "This is the volume-average temperature. "
   ]
  },
  {
   "cell_type": "code",
   "execution_count": 90,
   "metadata": {},
   "outputs": [
    {
     "name": "stdout",
     "output_type": "stream",
     "text": [
      "The required plasma temperature is: 14000.0eV\n"
     ]
    }
   ],
   "source": [
    "plasma_temperature = 14e3 # [eV]\n",
    "print('The required volume-averaged plasma temperature is: ' + str(round(plasma_temperature, 2)) + 'eV')"
   ]
  },
  {
   "attachments": {},
   "cell_type": "markdown",
   "metadata": {},
   "source": [
    "## Average plasma pressure\n",
    "We can get the required average plasma pressure again to maximise the fusion power. "
   ]
  },
  {
   "cell_type": "code",
   "execution_count": 112,
   "metadata": {},
   "outputs": [
    {
     "name": "stdout",
     "output_type": "stream",
     "text": [
      "The required volume-averaged plasma pressure is: 761861.89Pa\n",
      "Resultant beta: 4.05%\n"
     ]
    }
   ],
   "source": [
    "plasma_pressure = 1.01e5*(8.76/(a**0.5)) # [Pa]\n",
    "print('The required volume-averaged plasma pressure is: ' + str(round(plasma_pressure, 2)) + 'Pa')\n",
    "\n",
    "# Calculate beta - the ration of the plasma pressure to the magnetic pressure. \n",
    "# This is a good indicator of the economic situation. \n",
    "beta = 100*(2*mu_0*(plasma_pressure))/(B0**2)\n",
    "print('Resultant beta: ' + str(round(beta, 2)) + '%')\n"
   ]
  },
  {
   "attachments": {},
   "cell_type": "markdown",
   "metadata": {},
   "source": [
    "## Average plasma density \n",
    "The volume-average plasma density can be derived from its relationship to the plasma pressure and temperature. \n",
    " "
   ]
  },
  {
   "cell_type": "code",
   "execution_count": 108,
   "metadata": {},
   "outputs": [
    {
     "name": "stdout",
     "output_type": "stream",
     "text": [
      "The required volume-averaged plasma density is: 1.429416722280494e+20/m3\n"
     ]
    }
   ],
   "source": [
    "plasma_density = 1e20*1.66/(a**0.5)\n",
    "print('The required volume-averaged plasma density is: ' + str(round(plasma_density, 2)) + '/m3')\n"
   ]
  },
  {
   "attachments": {},
   "cell_type": "markdown",
   "metadata": {},
   "source": [
    "## Energy confinement time \n",
    "The energy confinement time is determined by the requirement that in steady \n",
    "state the thermal conduction losses are balanced by alpha particle heating. \n",
    "\n",
    "The plasma is assumed to be ignited."
   ]
  },
  {
   "cell_type": "code",
   "execution_count": 129,
   "metadata": {},
   "outputs": [
    {
     "name": "stdout",
     "output_type": "stream",
     "text": [
      "Required energy confinement time: 0.95s\n"
     ]
    }
   ],
   "source": [
    "confinement_time = 3*(np.pi**2)*R0*(a**2)*k*plasma_pressure*((energy_fusion*thermal_efficiency)/(energy_alpha*P_electric))\n",
    "print('Required energy confinement time: ' + str(round(confinement_time, 2)) + 's')"
   ]
  },
  {
   "attachments": {},
   "cell_type": "markdown",
   "metadata": {},
   "source": [
    "## Plasma current \n",
    "Calculating the plasma current involves some plasma physics for the first time in this project. \n",
    "\n",
    "We equate the required energy confinement factor to the empirically determined expression for confinement time, which then lets us solve for the plasma current. "
   ]
  },
  {
   "cell_type": "code",
   "execution_count": 130,
   "metadata": {},
   "outputs": [
    {
     "name": "stdout",
     "output_type": "stream",
     "text": [
      "Required plasma current: 0.04MA\n"
     ]
    }
   ],
   "source": [
    "H = 1  # [-] H-mode enhancement factor \n",
    "am = 2.5 # [-] atomic mass number\n",
    "\n",
    "Ip = (7.98*(confinement_time**1.08))/((H**1.08)*(R0**1.49)*(a**0.62)*(k**0.84)*((plasma_pressure)**0.44)*(B0**0.16)*(am**0.20))*(((energy_alpha*P_electric*1e-6)/(energy_fusion*thermal_efficiency))**0.74)\n",
    "print('Required plasma current: ' + str(round(Ip, 2)) + 'MA')\n",
    "### WRONG"
   ]
  },
  {
   "attachments": {},
   "cell_type": "markdown",
   "metadata": {},
   "source": [
    "## CAD model generation - Paramak"
   ]
  },
  {
   "cell_type": "code",
   "execution_count": null,
   "metadata": {},
   "outputs": [],
   "source": [
    "ball_reactor = paramak.BallReactor(\n",
    "   inner_bore_radial_thickness = 50,\n",
    "   inboard_tf_leg_radial_thickness = 50,\n",
    "   center_column_shield_radial_thickness= 50,\n",
    "   divertor_radial_thickness = 100,\n",
    "   inner_plasma_gap_radial_thickness = 50,\n",
    "   plasma_radial_thickness = 200,\n",
    "   outer_plasma_gap_radial_thickness = 50,\n",
    "   firstwall_radial_thickness = 50,\n",
    "   blanket_radial_thickness = 100,\n",
    "   blanket_rear_wall_radial_thickness = 50,\n",
    "   elongation = 2,\n",
    "   triangularity = 0.55,\n",
    "   rotation_angle = 180\n",
    ")\n",
    "\n",
    "ball_reactor.export_html_3d('ball_reactor.html')"
   ]
  },
  {
   "cell_type": "code",
   "execution_count": null,
   "metadata": {},
   "outputs": [],
   "source": [
    "demo = paramak.EuDemoFrom2015PaperDiagram(rotation_angle=90)\n",
    "demo.export_html_3d('demo_reactor.html')\n"
   ]
  },
  {
   "cell_type": "code",
   "execution_count": null,
   "metadata": {},
   "outputs": [],
   "source": []
  },
  {
   "attachments": {},
   "cell_type": "markdown",
   "metadata": {},
   "source": [
    "## Heat flux \n",
    "Use simple scaling law\n",
    "\n"
   ]
  },
  {
   "attachments": {},
   "cell_type": "markdown",
   "metadata": {},
   "source": []
  },
  {
   "attachments": {},
   "cell_type": "markdown",
   "metadata": {},
   "source": [
    "# "
   ]
  }
 ],
 "metadata": {
  "kernelspec": {
   "display_name": "winter_school",
   "language": "python",
   "name": "python3"
  },
  "language_info": {
   "codemirror_mode": {
    "name": "ipython",
    "version": 3
   },
   "file_extension": ".py",
   "mimetype": "text/x-python",
   "name": "python",
   "nbconvert_exporter": "python",
   "pygments_lexer": "ipython3",
   "version": "3.9.16"
  },
  "orig_nbformat": 4
 },
 "nbformat": 4,
 "nbformat_minor": 2
}
